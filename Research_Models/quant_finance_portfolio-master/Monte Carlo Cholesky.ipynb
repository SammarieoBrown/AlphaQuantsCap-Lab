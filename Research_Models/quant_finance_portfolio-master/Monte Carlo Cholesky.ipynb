{
 "cells": [
  {
   "cell_type": "code",
   "execution_count": 83,
   "metadata": {
    "pycharm": {
     "name": "#%%\n"
    }
   },
   "outputs": [],
   "source": [
    "import numpy as np\n",
    "import pandas as pd\n",
    "from pandas_datareader import data as wb\n",
    "import matplotlib.pyplot as plt\n",
    "from scipy.stats import norm, gmean, cauchy\n",
    "import seaborn as sns\n",
    "from datetime import datetime, timedelta\n",
    "\n",
    "%matplotlib inline"
   ]
  },
  {
   "cell_type": "code",
   "execution_count": 84,
   "metadata": {
    "pycharm": {
     "name": "#%%\n"
    }
   },
   "outputs": [],
   "source": [
    "def import_stock_data(tickers, start = '2010-1-1', end = datetime.today().strftime('%Y-%m-%d')):\n",
    "    data = pd.DataFrame()\n",
    "    if len([tickers]) ==1:\n",
    "        data[tickers] = wb.DataReader(tickers, data_source='yahoo', start = start)['Adj Close']\n",
    "        data = pd.DataFrame(data)\n",
    "    else:\n",
    "        for t in tickers:\n",
    "            data[t] = wb.DataReader(t, data_source='yahoo', start = start)['Adj Close']\n",
    "    return(data)"
   ]
  },
  {
   "cell_type": "code",
   "execution_count": 148,
   "metadata": {
    "pycharm": {
     "name": "#%%\n"
    }
   },
   "outputs": [],
   "source": [
    "data = import_stock_data(['AAPL'])"
   ]
  },
  {
   "cell_type": "code",
   "execution_count": 149,
   "outputs": [
    {
     "data": {
      "text/plain": "                  AAPL\nDate                  \n2022-07-01  138.929993\n2022-07-05  141.559998\n2022-07-06  142.919998\n2022-07-07  146.350006\n2022-07-08  146.639999",
      "text/html": "<div>\n<style scoped>\n    .dataframe tbody tr th:only-of-type {\n        vertical-align: middle;\n    }\n\n    .dataframe tbody tr th {\n        vertical-align: top;\n    }\n\n    .dataframe thead th {\n        text-align: right;\n    }\n</style>\n<table border=\"1\" class=\"dataframe\">\n  <thead>\n    <tr style=\"text-align: right;\">\n      <th></th>\n      <th>AAPL</th>\n    </tr>\n    <tr>\n      <th>Date</th>\n      <th></th>\n    </tr>\n  </thead>\n  <tbody>\n    <tr>\n      <th>2022-07-01</th>\n      <td>138.929993</td>\n    </tr>\n    <tr>\n      <th>2022-07-05</th>\n      <td>141.559998</td>\n    </tr>\n    <tr>\n      <th>2022-07-06</th>\n      <td>142.919998</td>\n    </tr>\n    <tr>\n      <th>2022-07-07</th>\n      <td>146.350006</td>\n    </tr>\n    <tr>\n      <th>2022-07-08</th>\n      <td>146.639999</td>\n    </tr>\n  </tbody>\n</table>\n</div>"
     },
     "execution_count": 149,
     "metadata": {},
     "output_type": "execute_result"
    }
   ],
   "source": [
    "data.tail()\n"
   ],
   "metadata": {
    "collapsed": false,
    "pycharm": {
     "name": "#%%\n"
    }
   }
  },
  {
   "cell_type": "code",
   "execution_count": 150,
   "outputs": [
    {
     "name": "stdout",
     "output_type": "stream",
     "text": [
      "<class 'pandas.core.frame.DataFrame'>\n",
      "DatetimeIndex: 3150 entries, 2010-01-04 to 2022-07-08\n",
      "Data columns (total 1 columns):\n",
      " #   Column  Non-Null Count  Dtype  \n",
      "---  ------  --------------  -----  \n",
      " 0   AAPL    3150 non-null   float64\n",
      "dtypes: float64(1)\n",
      "memory usage: 49.2 KB\n"
     ]
    }
   ],
   "source": [
    "data.info()"
   ],
   "metadata": {
    "collapsed": false,
    "pycharm": {
     "name": "#%%\n"
    }
   }
  },
  {
   "cell_type": "code",
   "execution_count": 151,
   "outputs": [
    {
     "data": {
      "text/plain": "AAPL    0\ndtype: int64"
     },
     "execution_count": 151,
     "metadata": {},
     "output_type": "execute_result"
    }
   ],
   "source": [
    "data.isnull().sum()"
   ],
   "metadata": {
    "collapsed": false,
    "pycharm": {
     "name": "#%%\n"
    }
   }
  },
  {
   "cell_type": "markdown",
   "source": [],
   "metadata": {
    "collapsed": false,
    "pycharm": {
     "name": "#%% md\n"
    }
   }
  },
  {
   "cell_type": "code",
   "execution_count": 152,
   "metadata": {
    "pycharm": {
     "name": "#%%\n"
    }
   },
   "outputs": [],
   "source": [
    "def log_returns(data):\n",
    "    return np.log(1 + data.pct_change())"
   ]
  },
  {
   "cell_type": "code",
   "execution_count": 153,
   "outputs": [],
   "source": [
    "def simple_returns(data):\n",
    "    return (data / data.shift(1)) - 1"
   ],
   "metadata": {
    "collapsed": false,
    "pycharm": {
     "name": "#%%\n"
    }
   }
  },
  {
   "cell_type": "code",
   "execution_count": 154,
   "metadata": {
    "pycharm": {
     "name": "#%%\n"
    }
   },
   "outputs": [
    {
     "data": {
      "text/plain": "                AAPL\nDate                \n2010-01-04       NaN\n2010-01-05  0.001727\n2010-01-06 -0.016034\n2010-01-07 -0.001851\n2010-01-08  0.006627",
      "text/html": "<div>\n<style scoped>\n    .dataframe tbody tr th:only-of-type {\n        vertical-align: middle;\n    }\n\n    .dataframe tbody tr th {\n        vertical-align: top;\n    }\n\n    .dataframe thead th {\n        text-align: right;\n    }\n</style>\n<table border=\"1\" class=\"dataframe\">\n  <thead>\n    <tr style=\"text-align: right;\">\n      <th></th>\n      <th>AAPL</th>\n    </tr>\n    <tr>\n      <th>Date</th>\n      <th></th>\n    </tr>\n  </thead>\n  <tbody>\n    <tr>\n      <th>2010-01-04</th>\n      <td>NaN</td>\n    </tr>\n    <tr>\n      <th>2010-01-05</th>\n      <td>0.001727</td>\n    </tr>\n    <tr>\n      <th>2010-01-06</th>\n      <td>-0.016034</td>\n    </tr>\n    <tr>\n      <th>2010-01-07</th>\n      <td>-0.001851</td>\n    </tr>\n    <tr>\n      <th>2010-01-08</th>\n      <td>0.006627</td>\n    </tr>\n  </tbody>\n</table>\n</div>"
     },
     "execution_count": 154,
     "metadata": {},
     "output_type": "execute_result"
    }
   ],
   "source": [
    "log_return = log_returns(data)\n",
    "log_return.head()"
   ]
  },
  {
   "cell_type": "code",
   "execution_count": 155,
   "metadata": {
    "pycharm": {
     "name": "#%%\n"
    }
   },
   "outputs": [],
   "source": [
    "def drift_calc(data, return_type='log'):\n",
    "    if return_type=='log':\n",
    "        lr = log_returns(data)\n",
    "    elif return_type=='simple':\n",
    "        lr = simple_returns(data)\n",
    "    u = lr.mean()\n",
    "    var = lr.var()\n",
    "    drift = u-(0.5*var)\n",
    "    try:\n",
    "        return drift.values\n",
    "    except:\n",
    "        return drift"
   ]
  },
  {
   "cell_type": "code",
   "execution_count": 156,
   "metadata": {
    "pycharm": {
     "name": "#%%\n"
    }
   },
   "outputs": [
    {
     "data": {
      "text/plain": "array([0.00082755])"
     },
     "execution_count": 156,
     "metadata": {},
     "output_type": "execute_result"
    }
   ],
   "source": [
    "drift = drift_calc(data)\n",
    "drift"
   ]
  },
  {
   "cell_type": "code",
   "execution_count": 157,
   "metadata": {
    "pycharm": {
     "name": "#%%\n"
    }
   },
   "outputs": [
    {
     "data": {
      "text/plain": "array([0.01790604])"
     },
     "execution_count": 157,
     "metadata": {},
     "output_type": "execute_result"
    }
   ],
   "source": [
    "stdev = log_returns(data).std().values\n",
    "stdev"
   ]
  },
  {
   "cell_type": "code",
   "execution_count": 158,
   "metadata": {
    "pycharm": {
     "name": "#%%\n"
    }
   },
   "outputs": [
    {
     "data": {
      "text/plain": "['AAPL']"
     },
     "execution_count": 158,
     "metadata": {},
     "output_type": "execute_result"
    }
   ],
   "source": [
    "def get_tickers(data):\n",
    "    tickers = [i for i in data.columns]\n",
    "    return tickers\n",
    "tickers=get_tickers(data)\n",
    "tickers"
   ]
  },
  {
   "cell_type": "code",
   "execution_count": 159,
   "metadata": {
    "pycharm": {
     "name": "#%%\n"
    }
   },
   "outputs": [],
   "source": [
    "def probs_find(predicted, higherthan, ticker = None, on = 'value'):\n",
    "    \"\"\"\n",
    "    This function calculated the probability of a stock being above a certain threshhold, which can be defined as a value (final stock price) or return rate (percentage change)\n",
    "    Input: \n",
    "    1. predicted: dataframe with all the predicted prices (days and simulations)\n",
    "    2. higherthan: specified threshhold to which compute the probability (ex. 0 on return will compute the probability of at least breakeven)\n",
    "    3. on: 'return' or 'value', the return of the stock or the final value of stock for every simulation over the time specified\n",
    "    4. ticker: specific ticker to compute probability for\n",
    "    \"\"\"\n",
    "    if ticker == None:\n",
    "        if on == 'return':\n",
    "            predicted0 = predicted.iloc[0,0]\n",
    "            predicted = predicted.iloc[-1]\n",
    "            predList = list(predicted)\n",
    "            over = [(i*100)/predicted0 for i in predList if ((i-predicted0)*100)/predicted0 >= higherthan]\n",
    "            less = [(i*100)/predicted0 for i in predList if ((i-predicted0)*100)/predicted0 < higherthan]\n",
    "        elif on == 'value':\n",
    "            predicted = predicted.iloc[-1]\n",
    "            predList = list(predicted)\n",
    "            over = [i for i in predList if i >= higherthan]\n",
    "            less = [i for i in predList if i < higherthan]\n",
    "        else:\n",
    "            print(\"'on' must be either value or return\")\n",
    "    else:\n",
    "        if on == 'return':\n",
    "            predicted = predicted[predicted['ticker'] == ticker]\n",
    "            predicted0 = predicted.iloc[0,0]\n",
    "            predicted = predicted.iloc[-1]\n",
    "            predList = list(predicted)\n",
    "            over = [(i*100)/predicted0 for i in predList if ((i-predicted0)*100)/predicted0 >= higherthan]\n",
    "            less = [(i*100)/predicted0 for i in predList if ((i-predicted0)*100)/predicted0 < higherthan]\n",
    "        elif on == 'value':\n",
    "            predicted = predicted.iloc[-1]\n",
    "            predList = list(predicted)\n",
    "            over = [i for i in predList if i >= higherthan]\n",
    "            less = [i for i in predList if i < higherthan]\n",
    "        else:\n",
    "            print(\"'on' must be either value or return\")        \n",
    "    return len(over) / (len(over) + len(less))"
   ]
  },
  {
   "cell_type": "code",
   "execution_count": 160,
   "metadata": {
    "pycharm": {
     "name": "#%%\n"
    }
   },
   "outputs": [],
   "source": [
    "def montecarlo_cholesky(tickers, days, iterations, start='2010-1-1', show_hist = False, show_line = False, show_stats=True):\n",
    "    #Get tickers and number of tickers involved in this portfolio\n",
    "    data = import_stock_data(tickers, start=start)\n",
    "    ticks = get_tickers(data)\n",
    "    numstocks = len(ticks)\n",
    "    \n",
    "    #Basic information and data\n",
    "    log_return = log_returns(data)\n",
    "    \n",
    "    #Brownian motion component: drif\n",
    "    drift = drift_calc(data)\n",
    "    stdev = log_returns(data).std().values\n",
    "    \n",
    "    #Cholesky decomposition\n",
    "    covari = log_return.cov()\n",
    "    chol = np.linalg.cholesky(covari)\n",
    "    \n",
    "    #Generate uncorralated random variables and use cholesky decomposition to correlate them\n",
    "    uncorr_x = norm.ppf(np.random.rand(numstocks,iterations*days))\n",
    "    corr_x = np.dot(chol, uncorr_x)\n",
    "    \n",
    "    #Calculate daily return\n",
    "    corr_2 = np.zeros_like(corr_x)\n",
    "    for i in range(numstocks):\n",
    "        corr_2[i] = np.exp(drift[i] + corr_x[i])\n",
    "    simulatedDF = []    \n",
    "    #For every stock, calculate the returns\n",
    "    for s in range(len(ticks)):\n",
    "        ret_reshape = corr_2[s]\n",
    "        ret_reshape = ret_reshape.reshape(days,iterations)\n",
    "        price_list = np.zeros_like(ret_reshape)\n",
    "        price_list[0] = data.iloc[-1,s]\n",
    "        #Calculate returns for the s stock\n",
    "        for t in range(1,days):\n",
    "            price_list[t] = price_list[t-1]*ret_reshape[t]\n",
    "        \n",
    "        #Create dataframe for this run, input the name of stock and load\n",
    "        y = pd.DataFrame(price_list)   \n",
    "        y['ticker'] = tickers[s]\n",
    "        cols = y.columns.tolist()\n",
    "        cols = cols[-1:] + cols[:-1]\n",
    "        y = y[cols]\n",
    "        simulatedDF.append(y)\n",
    "        \n",
    "        #plotting\n",
    "        if show_hist == True:\n",
    "            x = pd.DataFrame(price_list).iloc[-1]\n",
    "            fig, ax = plt.subplots(1,2, figsize=(14,4))\n",
    "            sns.distplot(x, ax=ax[0],axlabel=\"Stock Price\")\n",
    "            sns.distplot(x, hist_kws={'cumulative':True},kde_kws={'cumulative':True},ax=ax[1])\n",
    "            plt.xlabel(\"Stock Price\")\n",
    "            plt.show()\n",
    "        if show_line == True:\n",
    "            y = pd.DataFrame(price_list[:,0:10]).plot(figsize=(15,6))\n",
    "        \n",
    "        if show_stats == True:\n",
    "        #Printing basic stats\n",
    "            print(ticks[s])\n",
    "            print(f\"Days: {days}\")\n",
    "            print(f\"Expected Value: ${round(pd.DataFrame(price_list).iloc[-1].mean(),2)}\")\n",
    "            print(f\"Return: {round(100*(pd.DataFrame(price_list).iloc[-1].mean()-price_list[0,1])/pd.DataFrame(price_list).iloc[-1].mean(),2)}%\")\n",
    "            print(f\"Probability of Breakeven: {probs_find(pd.DataFrame(price_list),0, on='return')}\")\n",
    "   \n",
    "        \n",
    "    simulatedDF = pd.concat(simulatedDF)\n",
    "    return(simulatedDF)"
   ]
  },
  {
   "cell_type": "code",
   "execution_count": 161,
   "metadata": {
    "scrolled": false,
    "pycharm": {
     "name": "#%%\n"
    }
   },
   "outputs": [
    {
     "name": "stderr",
     "output_type": "stream",
     "text": [
      "C:\\Users\\samma\\anaconda3\\lib\\site-packages\\seaborn\\distributions.py:2619: FutureWarning: `distplot` is a deprecated function and will be removed in a future version. Please adapt your code to use either `displot` (a figure-level function with similar flexibility) or `histplot` (an axes-level function for histograms).\n",
      "  warnings.warn(msg, FutureWarning)\n",
      "C:\\Users\\samma\\anaconda3\\lib\\site-packages\\seaborn\\distributions.py:2619: FutureWarning: `distplot` is a deprecated function and will be removed in a future version. Please adapt your code to use either `displot` (a figure-level function with similar flexibility) or `histplot` (an axes-level function for histograms).\n",
      "  warnings.warn(msg, FutureWarning)\n"
     ]
    },
    {
     "data": {
      "text/plain": "<Figure size 1008x288 with 2 Axes>",
      "image/png": "[encoded data removed]"
     },
     "metadata": {
      "needs_background": "light"
     },
     "output_type": "display_data"
    },
    {
     "name": "stdout",
     "output_type": "stream",
     "text": [
      "AAPL\n",
      "Days: 252\n",
      "Expected Value: $185.75\n",
      "Return: 21.04%\n",
      "Probability of Breakeven: 0.7488\n"
     ]
    },
    {
     "name": "stderr",
     "output_type": "stream",
     "text": [
      "C:\\Users\\samma\\anaconda3\\lib\\site-packages\\seaborn\\distributions.py:2619: FutureWarning: `distplot` is a deprecated function and will be removed in a future version. Please adapt your code to use either `displot` (a figure-level function with similar flexibility) or `histplot` (an axes-level function for histograms).\n",
      "  warnings.warn(msg, FutureWarning)\n",
      "C:\\Users\\samma\\anaconda3\\lib\\site-packages\\seaborn\\distributions.py:2619: FutureWarning: `distplot` is a deprecated function and will be removed in a future version. Please adapt your code to use either `displot` (a figure-level function with similar flexibility) or `histplot` (an axes-level function for histograms).\n",
      "  warnings.warn(msg, FutureWarning)\n"
     ]
    },
    {
     "data": {
      "text/plain": "<Figure size 1008x288 with 2 Axes>",
      "image/png": "[encoded data removed]"
     },
     "metadata": {
      "needs_background": "light"
     },
     "output_type": "display_data"
    },
    {
     "name": "stdout",
     "output_type": "stream",
     "text": [
      "MSFT\n",
      "Days: 252\n",
      "Expected Value: $338.95\n",
      "Return: 22.0%\n",
      "Probability of Breakeven: 0.7808\n"
     ]
    },
    {
     "name": "stderr",
     "output_type": "stream",
     "text": [
      "C:\\Users\\samma\\anaconda3\\lib\\site-packages\\seaborn\\distributions.py:2619: FutureWarning: `distplot` is a deprecated function and will be removed in a future version. Please adapt your code to use either `displot` (a figure-level function with similar flexibility) or `histplot` (an axes-level function for histograms).\n",
      "  warnings.warn(msg, FutureWarning)\n",
      "C:\\Users\\samma\\anaconda3\\lib\\site-packages\\seaborn\\distributions.py:2619: FutureWarning: `distplot` is a deprecated function and will be removed in a future version. Please adapt your code to use either `displot` (a figure-level function with similar flexibility) or `histplot` (an axes-level function for histograms).\n",
      "  warnings.warn(msg, FutureWarning)\n"
     ]
    },
    {
     "data": {
      "text/plain": "<Figure size 1008x288 with 2 Axes>",
      "image/png": "[encoded data removed]"
     },
     "metadata": {
      "needs_background": "light"
     },
     "output_type": "display_data"
    },
    {
     "name": "stdout",
     "output_type": "stream",
     "text": [
      "^GSPC\n",
      "Days: 252\n",
      "Expected Value: $4238.63\n",
      "Return: 8.35%\n",
      "Probability of Breakeven: 0.643\n"
     ]
    }
   ],
   "source": [
    "x = montecarlo_cholesky(['AAPL','MSFT','^GSPC'], days=252, iterations=10000, start='2015-1-1', show_hist=True)"
   ]
  },
  {
   "cell_type": "code",
   "execution_count": 162,
   "metadata": {
    "pycharm": {
     "name": "#%%\n"
    }
   },
   "outputs": [
    {
     "data": {
      "text/plain": "    ticker            0            1            2            3            4  \\\n0     AAPL   146.679993   146.679993   146.679993   146.679993   146.679993   \n1     AAPL   144.174529   148.642748   142.296628   147.925501   150.148419   \n2     AAPL   145.656381   149.399944   143.419758   148.534343   155.071788   \n3     AAPL   141.661169   151.387786   144.387458   147.978084   159.242770   \n4     AAPL   143.648860   148.395055   146.036305   148.010531   159.040987   \n..     ...          ...          ...          ...          ...          ...   \n247  ^GSPC  4224.070788  5341.358517  4375.059341  4629.987899  4560.395011   \n248  ^GSPC  4168.178697  5300.802533  4290.650881  4601.343453  4538.738049   \n249  ^GSPC  4170.804655  5228.414416  4292.924014  4625.656357  4584.034889   \n250  ^GSPC  4079.048557  5173.902512  4267.779175  4651.239827  4552.575411   \n251  ^GSPC  4108.196653  5147.783093  4327.988752  4670.594288  4470.498030   \n\n               5            6            7            8  ...         9990  \\\n0     146.679993   146.679993   146.679993   146.679993  ...   146.679993   \n1     147.380316   142.832070   144.745461   153.701287  ...   145.044320   \n2     150.945062   142.326858   145.141854   153.300208  ...   147.604023   \n3     151.001597   143.517992   142.295924   152.070745  ...   146.159015   \n4     147.818982   145.721227   143.953605   154.329281  ...   149.803230   \n..           ...          ...          ...          ...  ...          ...   \n247  4158.609056  4270.581968  3737.503667  4503.859936  ...  4169.998703   \n248  4111.272899  4229.564750  3744.539469  4529.530309  ...  4157.532250   \n249  4093.665549  4239.237749  3814.850153  4493.886814  ...  4209.858219   \n250  4031.170565  4229.225193  3726.721465  4557.599355  ...  4219.340480   \n251  4025.606947  4160.070858  3744.847093  4610.074862  ...  4197.756800   \n\n            9991         9992         9993         9994         9995  \\\n0     146.679993   146.679993   146.679993   146.679993   146.679993   \n1     149.056942   148.743504   141.186036   148.136878   146.934305   \n2     147.306642   149.532084   138.810836   143.942014   150.562722   \n3     146.405362   148.634311   136.495811   146.229369   145.102119   \n4     145.641234   148.310785   139.601539   146.238035   142.904496   \n..           ...          ...          ...          ...          ...   \n247  4596.699637  4487.004216  3678.713368  5371.523735  4897.509285   \n248  4604.776072  4455.611196  3698.003921  5331.418314  4871.023008   \n249  4647.499867  4448.673677  3743.504874  5333.517551  4925.445944   \n250  4596.327080  4420.526743  3833.433788  5460.097591  4822.452880   \n251  4612.115403  4442.507618  3800.290872  5510.521078  4811.760661   \n\n            9996         9997         9998         9999  \n0     146.679993   146.679993   146.679993   146.679993  \n1     148.314780   147.885254   145.363158   144.347475  \n2     143.544172   150.538024   149.207652   146.905269  \n3     140.330803   149.856076   150.972366   146.253604  \n4     138.833322   149.629277   155.218659   145.809076  \n..           ...          ...          ...          ...  \n247  3487.618303  4252.100828  3709.665864  3298.113340  \n248  3524.087031  4179.090567  3787.082228  3252.108246  \n249  3487.138620  4154.582128  3774.077963  3170.113308  \n250  3550.769040  4196.106794  3722.822085  3130.326472  \n251  3562.922583  4275.427069  3718.874807  3131.653935  \n\n[756 rows x 10001 columns]",
      "text/html": "<div>\n<style scoped>\n    .dataframe tbody tr th:only-of-type {\n        vertical-align: middle;\n    }\n\n    .dataframe tbody tr th {\n        vertical-align: top;\n    }\n\n    .dataframe thead th {\n        text-align: right;\n    }\n</style>\n<table border=\"1\" class=\"dataframe\">\n  <thead>\n    <tr style=\"text-align: right;\">\n      <th></th>\n      <th>ticker</th>\n      <th>0</th>\n      <th>1</th>\n      <th>2</th>\n      <th>3</th>\n      <th>4</th>\n      <th>5</th>\n      <th>6</th>\n      <th>7</th>\n      <th>8</th>\n      <th>...</th>\n      <th>9990</th>\n      <th>9991</th>\n      <th>9992</th>\n      <th>9993</th>\n      <th>9994</th>\n      <th>9995</th>\n      <th>9996</th>\n      <th>9997</th>\n      <th>9998</th>\n      <th>9999</th>\n    </tr>\n  </thead>\n  <tbody>\n    <tr>\n      <th>0</th>\n      <td>AAPL</td>\n      <td>146.679993</td>\n      <td>146.679993</td>\n      <td>146.679993</td>\n      <td>146.679993</td>\n      <td>146.679993</td>\n      <td>146.679993</td>\n      <td>146.679993</td>\n      <td>146.679993</td>\n      <td>146.679993</td>\n      <td>...</td>\n      <td>146.679993</td>\n      <td>146.679993</td>\n      <td>146.679993</td>\n      <td>146.679993</td>\n      <td>146.679993</td>\n      <td>146.679993</td>\n      <td>146.679993</td>\n      <td>146.679993</td>\n      <td>146.679993</td>\n      <td>146.679993</td>\n    </tr>\n    <tr>\n      <th>1</th>\n      <td>AAPL</td>\n      <td>144.174529</td>\n      <td>148.642748</td>\n      <td>142.296628</td>\n      <td>147.925501</td>\n      <td>150.148419</td>\n      <td>147.380316</td>\n      <td>142.832070</td>\n      <td>144.745461</td>\n      <td>153.701287</td>\n      <td>...</td>\n      <td>145.044320</td>\n      <td>149.056942</td>\n      <td>148.743504</td>\n      <td>141.186036</td>\n      <td>148.136878</td>\n      <td>146.934305</td>\n      <td>148.314780</td>\n      <td>147.885254</td>\n      <td>145.363158</td>\n      <td>144.347475</td>\n    </tr>\n    <tr>\n      <th>2</th>\n      <td>AAPL</td>\n      <td>145.656381</td>\n      <td>149.399944</td>\n      <td>143.419758</td>\n      <td>148.534343</td>\n      <td>155.071788</td>\n      <td>150.945062</td>\n      <td>142.326858</td>\n      <td>145.141854</td>\n      <td>153.300208</td>\n      <td>...</td>\n      <td>147.604023</td>\n      <td>147.306642</td>\n      <td>149.532084</td>\n      <td>138.810836</td>\n      <td>143.942014</td>\n      <td>150.562722</td>\n      <td>143.544172</td>\n      <td>150.538024</td>\n      <td>149.207652</td>\n      <td>146.905269</td>\n    </tr>\n    <tr>\n      <th>3</th>\n      <td>AAPL</td>\n      <td>141.661169</td>\n      <td>151.387786</td>\n      <td>144.387458</td>\n      <td>147.978084</td>\n      <td>159.242770</td>\n      <td>151.001597</td>\n      <td>143.517992</td>\n      <td>142.295924</td>\n      <td>152.070745</td>\n      <td>...</td>\n      <td>146.159015</td>\n      <td>146.405362</td>\n      <td>148.634311</td>\n      <td>136.495811</td>\n      <td>146.229369</td>\n      <td>145.102119</td>\n      <td>140.330803</td>\n      <td>149.856076</td>\n      <td>150.972366</td>\n      <td>146.253604</td>\n    </tr>\n    <tr>\n      <th>4</th>\n      <td>AAPL</td>\n      <td>143.648860</td>\n      <td>148.395055</td>\n      <td>146.036305</td>\n      <td>148.010531</td>\n      <td>159.040987</td>\n      <td>147.818982</td>\n      <td>145.721227</td>\n      <td>143.953605</td>\n      <td>154.329281</td>\n      <td>...</td>\n      <td>149.803230</td>\n      <td>145.641234</td>\n      <td>148.310785</td>\n      <td>139.601539</td>\n      <td>146.238035</td>\n      <td>142.904496</td>\n      <td>138.833322</td>\n      <td>149.629277</td>\n      <td>155.218659</td>\n      <td>145.809076</td>\n    </tr>\n    <tr>\n      <th>...</th>\n      <td>...</td>\n      <td>...</td>\n      <td>...</td>\n      <td>...</td>\n      <td>...</td>\n      <td>...</td>\n      <td>...</td>\n      <td>...</td>\n      <td>...</td>\n      <td>...</td>\n      <td>...</td>\n      <td>...</td>\n      <td>...</td>\n      <td>...</td>\n      <td>...</td>\n      <td>...</td>\n      <td>...</td>\n      <td>...</td>\n      <td>...</td>\n      <td>...</td>\n      <td>...</td>\n    </tr>\n    <tr>\n      <th>247</th>\n      <td>^GSPC</td>\n      <td>4224.070788</td>\n      <td>5341.358517</td>\n      <td>4375.059341</td>\n      <td>4629.987899</td>\n      <td>4560.395011</td>\n      <td>4158.609056</td>\n      <td>4270.581968</td>\n      <td>3737.503667</td>\n      <td>4503.859936</td>\n      <td>...</td>\n      <td>4169.998703</td>\n      <td>4596.699637</td>\n      <td>4487.004216</td>\n      <td>3678.713368</td>\n      <td>5371.523735</td>\n      <td>4897.509285</td>\n      <td>3487.618303</td>\n      <td>4252.100828</td>\n      <td>3709.665864</td>\n      <td>3298.113340</td>\n    </tr>\n    <tr>\n      <th>248</th>\n      <td>^GSPC</td>\n      <td>4168.178697</td>\n      <td>5300.802533</td>\n      <td>4290.650881</td>\n      <td>4601.343453</td>\n      <td>4538.738049</td>\n      <td>4111.272899</td>\n      <td>4229.564750</td>\n      <td>3744.539469</td>\n      <td>4529.530309</td>\n      <td>...</td>\n      <td>4157.532250</td>\n      <td>4604.776072</td>\n      <td>4455.611196</td>\n      <td>3698.003921</td>\n      <td>5331.418314</td>\n      <td>4871.023008</td>\n      <td>3524.087031</td>\n      <td>4179.090567</td>\n      <td>3787.082228</td>\n      <td>3252.108246</td>\n    </tr>\n    <tr>\n      <th>249</th>\n      <td>^GSPC</td>\n      <td>4170.804655</td>\n      <td>5228.414416</td>\n      <td>4292.924014</td>\n      <td>4625.656357</td>\n      <td>4584.034889</td>\n      <td>4093.665549</td>\n      <td>4239.237749</td>\n      <td>3814.850153</td>\n      <td>4493.886814</td>\n      <td>...</td>\n      <td>4209.858219</td>\n      <td>4647.499867</td>\n      <td>4448.673677</td>\n      <td>3743.504874</td>\n      <td>5333.517551</td>\n      <td>4925.445944</td>\n      <td>3487.138620</td>\n      <td>4154.582128</td>\n      <td>3774.077963</td>\n      <td>3170.113308</td>\n    </tr>\n    <tr>\n      <th>250</th>\n      <td>^GSPC</td>\n      <td>4079.048557</td>\n      <td>5173.902512</td>\n      <td>4267.779175</td>\n      <td>4651.239827</td>\n      <td>4552.575411</td>\n      <td>4031.170565</td>\n      <td>4229.225193</td>\n      <td>3726.721465</td>\n      <td>4557.599355</td>\n      <td>...</td>\n      <td>4219.340480</td>\n      <td>4596.327080</td>\n      <td>4420.526743</td>\n      <td>3833.433788</td>\n      <td>5460.097591</td>\n      <td>4822.452880</td>\n      <td>3550.769040</td>\n      <td>4196.106794</td>\n      <td>3722.822085</td>\n      <td>3130.326472</td>\n    </tr>\n    <tr>\n      <th>251</th>\n      <td>^GSPC</td>\n      <td>4108.196653</td>\n      <td>5147.783093</td>\n      <td>4327.988752</td>\n      <td>4670.594288</td>\n      <td>4470.498030</td>\n      <td>4025.606947</td>\n      <td>4160.070858</td>\n      <td>3744.847093</td>\n      <td>4610.074862</td>\n      <td>...</td>\n      <td>4197.756800</td>\n      <td>4612.115403</td>\n      <td>4442.507618</td>\n      <td>3800.290872</td>\n      <td>5510.521078</td>\n      <td>4811.760661</td>\n      <td>3562.922583</td>\n      <td>4275.427069</td>\n      <td>3718.874807</td>\n      <td>3131.653935</td>\n    </tr>\n  </tbody>\n</table>\n<p>756 rows × 10001 columns</p>\n</div>"
     },
     "execution_count": 162,
     "metadata": {},
     "output_type": "execute_result"
    }
   ],
   "source": [
    "x"
   ]
  },
  {
   "cell_type": "code",
   "execution_count": 163,
   "metadata": {
    "pycharm": {
     "name": "#%%\n"
    }
   },
   "outputs": [
    {
     "data": {
      "text/plain": "['AAPL']"
     },
     "execution_count": 163,
     "metadata": {},
     "output_type": "execute_result"
    }
   ],
   "source": [
    "[col for col in data.columns]"
   ]
  },
  {
   "cell_type": "markdown",
   "metadata": {
    "pycharm": {
     "name": "#%% md\n"
    }
   },
   "source": [
    "## Sharpe Ratio"
   ]
  },
  {
   "cell_type": "code",
   "execution_count": 164,
   "metadata": {
    "pycharm": {
     "name": "#%%\n"
    }
   },
   "outputs": [],
   "source": [
    "def market_data_combination(data, mark_ticker = \"^GSPC\", start='2010-1-1'):\n",
    "    ticks = [col for col in data.columns]\n",
    "    if mark_ticker in ticks:\n",
    "        ann_return = np.exp(log_returns(data).mean()*252).values-1\n",
    "    else:\n",
    "        market_data = import_stock_data(mark_ticker, start)\n",
    "        market_rets = log_returns(market_data).dropna()\n",
    "        ann_return = np.exp(market_rets.mean()*252).values-1\n",
    "        data = data.merge(market_data, left_index=True, right_index=True)\n",
    "    return data, ann_return"
   ]
  },
  {
   "cell_type": "code",
   "execution_count": 165,
   "metadata": {
    "pycharm": {
     "name": "#%%\n"
    }
   },
   "outputs": [],
   "source": [
    "a,b=market_data_combination(data)"
   ]
  },
  {
   "cell_type": "code",
   "execution_count": 166,
   "outputs": [
    {
     "data": {
      "text/plain": "                AAPL        ^GSPC\nDate                             \n2010-01-04  6.535085  1132.989990\n2010-01-05  6.546383  1136.520020\n2010-01-06  6.442255  1137.140015\n2010-01-07  6.430344  1141.689941\n2010-01-08  6.473096  1144.979980",
      "text/html": "<div>\n<style scoped>\n    .dataframe tbody tr th:only-of-type {\n        vertical-align: middle;\n    }\n\n    .dataframe tbody tr th {\n        vertical-align: top;\n    }\n\n    .dataframe thead th {\n        text-align: right;\n    }\n</style>\n<table border=\"1\" class=\"dataframe\">\n  <thead>\n    <tr style=\"text-align: right;\">\n      <th></th>\n      <th>AAPL</th>\n      <th>^GSPC</th>\n    </tr>\n    <tr>\n      <th>Date</th>\n      <th></th>\n      <th></th>\n    </tr>\n  </thead>\n  <tbody>\n    <tr>\n      <th>2010-01-04</th>\n      <td>6.535085</td>\n      <td>1132.989990</td>\n    </tr>\n    <tr>\n      <th>2010-01-05</th>\n      <td>6.546383</td>\n      <td>1136.520020</td>\n    </tr>\n    <tr>\n      <th>2010-01-06</th>\n      <td>6.442255</td>\n      <td>1137.140015</td>\n    </tr>\n    <tr>\n      <th>2010-01-07</th>\n      <td>6.430344</td>\n      <td>1141.689941</td>\n    </tr>\n    <tr>\n      <th>2010-01-08</th>\n      <td>6.473096</td>\n      <td>1144.979980</td>\n    </tr>\n  </tbody>\n</table>\n</div>"
     },
     "execution_count": 166,
     "metadata": {},
     "output_type": "execute_result"
    }
   ],
   "source": [
    "a.head()"
   ],
   "metadata": {
    "collapsed": false,
    "pycharm": {
     "name": "#%%\n"
    }
   }
  },
  {
   "cell_type": "code",
   "execution_count": 167,
   "outputs": [
    {
     "data": {
      "text/plain": "array([0.10363701])"
     },
     "execution_count": 167,
     "metadata": {},
     "output_type": "execute_result"
    }
   ],
   "source": [
    "b"
   ],
   "metadata": {
    "collapsed": false,
    "pycharm": {
     "name": "#%%\n"
    }
   }
  },
  {
   "cell_type": "code",
   "execution_count": 176,
   "metadata": {
    "pycharm": {
     "name": "#%%\n"
    }
   },
   "outputs": [],
   "source": [
    "def beta_sharpe(data, mark_ticker = \"^GSPC\", start='2010-1-1', riskfree = 0.025, riskpremium = 0.05):\n",
    "    # Beta\n",
    "    dd, mark_ret = market_data_combination(data, mark_ticker, start) #load data and annual returns\n",
    "    log_ret = log_returns(dd) # create the logarithmic returns of the data\n",
    "    covar = log_ret.cov()*252 #Annualized covariance matrix \n",
    "    covar = pd.DataFrame(covar.iloc[:-1,-1]) # Get the part of the covariance matrix that is related between the stocks and the market\n",
    "    mrk_var = log_ret.iloc[:,-1].var()*252 # Annualized variance of market\n",
    "    beta = covar/mrk_var # Now we have our betas!\n",
    "    \n",
    "    #Add the standard deviation to the beta dataframe\n",
    "    stdev_ret = pd.DataFrame(((log_ret.std()*250**0.5)[:-1]), columns=['STD'])\n",
    "    beta = beta.merge(stdev_ret, left_index=True, right_index=True)\n",
    "    \n",
    "    # Get tickers of all the stocks in the dataframe used\n",
    "    tickers = get_tickers(dd)\n",
    "\n",
    "    \n",
    "    # Make dictionary for the annual return of each stock\n",
    "    #mark_ret = {tickers[i] : mark_ret[i] for i in range(len(tickers))}\n",
    "\n",
    "\n",
    "    # CAPM\n",
    "    \"\"\"for i, row in beta.iterrows():\n",
    "        beta.at[i,'CAPM'] = riskfree + (row[mark_ticker] * (mark_ret[mark_ticker]-riskfree))\n",
    "    # Sharpe\n",
    "    for i, row in beta.iterrows():\n",
    "        beta.at[i,'Sharpe'] = ((row['CAPM']-riskfree)/(row['STD']))\n",
    "    beta.rename(columns={\"^GSPC\":\"Beta\"}, inplace=True)\"\"\"\n",
    "    for i, row in beta.iterrows():\n",
    "        beta.at[i,'CAPM'] = riskfree + (row[mark_ticker] * (mark_ret-riskfree))\n",
    "    # Sharpe\n",
    "    for i, row in beta.iterrows():\n",
    "        beta.at[i,'Sharpe'] = ((row['CAPM']-riskfree)/(row['STD']))\n",
    "    beta.rename(columns={\"^GSPC\":\"Beta\"}, inplace=True)\n",
    "    \n",
    "    return beta"
   ]
  },
  {
   "cell_type": "code",
   "execution_count": 177,
   "metadata": {
    "pycharm": {
     "name": "#%%\n"
    }
   },
   "outputs": [
    {
     "data": {
      "text/plain": "          Beta       STD      CAPM    Sharpe\nAAPL  1.095397  0.283119  0.111135  0.304236",
      "text/html": "<div>\n<style scoped>\n    .dataframe tbody tr th:only-of-type {\n        vertical-align: middle;\n    }\n\n    .dataframe tbody tr th {\n        vertical-align: top;\n    }\n\n    .dataframe thead th {\n        text-align: right;\n    }\n</style>\n<table border=\"1\" class=\"dataframe\">\n  <thead>\n    <tr style=\"text-align: right;\">\n      <th></th>\n      <th>Beta</th>\n      <th>STD</th>\n      <th>CAPM</th>\n      <th>Sharpe</th>\n    </tr>\n  </thead>\n  <tbody>\n    <tr>\n      <th>AAPL</th>\n      <td>1.095397</td>\n      <td>0.283119</td>\n      <td>0.111135</td>\n      <td>0.304236</td>\n    </tr>\n  </tbody>\n</table>\n</div>"
     },
     "execution_count": 177,
     "metadata": {},
     "output_type": "execute_result"
    }
   ],
   "source": [
    "beta_sharpe(data)"
   ]
  },
  {
   "cell_type": "code",
   "execution_count": 178,
   "metadata": {
    "pycharm": {
     "name": "#%%\n"
    }
   },
   "outputs": [
    {
     "data": {
      "text/plain": "                AAPL\nDate                \n2010-01-04  6.535085\n2010-01-05  6.546383\n2010-01-06  6.442255\n2010-01-07  6.430344\n2010-01-08  6.473096",
      "text/html": "<div>\n<style scoped>\n    .dataframe tbody tr th:only-of-type {\n        vertical-align: middle;\n    }\n\n    .dataframe tbody tr th {\n        vertical-align: top;\n    }\n\n    .dataframe thead th {\n        text-align: right;\n    }\n</style>\n<table border=\"1\" class=\"dataframe\">\n  <thead>\n    <tr style=\"text-align: right;\">\n      <th></th>\n      <th>AAPL</th>\n    </tr>\n    <tr>\n      <th>Date</th>\n      <th></th>\n    </tr>\n  </thead>\n  <tbody>\n    <tr>\n      <th>2010-01-04</th>\n      <td>6.535085</td>\n    </tr>\n    <tr>\n      <th>2010-01-05</th>\n      <td>6.546383</td>\n    </tr>\n    <tr>\n      <th>2010-01-06</th>\n      <td>6.442255</td>\n    </tr>\n    <tr>\n      <th>2010-01-07</th>\n      <td>6.430344</td>\n    </tr>\n    <tr>\n      <th>2010-01-08</th>\n      <td>6.473096</td>\n    </tr>\n  </tbody>\n</table>\n</div>"
     },
     "execution_count": 178,
     "metadata": {},
     "output_type": "execute_result"
    }
   ],
   "source": [
    "data.head()"
   ]
  },
  {
   "cell_type": "markdown",
   "metadata": {
    "pycharm": {
     "name": "#%% md\n"
    }
   },
   "source": [
    "# Portfolio Optimization\n",
    "\n",
    "First, we will create a portfolio optimizer that determines the allocation of weights among data that we have - data that is not generated.\n",
    "\n",
    "Second, we will replicate the same portfolio algorythm, only this time with the average predicted values of all the runs into the future. "
   ]
  },
  {
   "cell_type": "code",
   "execution_count": 179,
   "metadata": {
    "pycharm": {
     "name": "#%%\n"
    }
   },
   "outputs": [
    {
     "data": {
      "text/plain": "                AAPL\nDate                \n2010-01-04  6.535085\n2010-01-05  6.546383\n2010-01-06  6.442255\n2010-01-07  6.430344\n2010-01-08  6.473096",
      "text/html": "<div>\n<style scoped>\n    .dataframe tbody tr th:only-of-type {\n        vertical-align: middle;\n    }\n\n    .dataframe tbody tr th {\n        vertical-align: top;\n    }\n\n    .dataframe thead th {\n        text-align: right;\n    }\n</style>\n<table border=\"1\" class=\"dataframe\">\n  <thead>\n    <tr style=\"text-align: right;\">\n      <th></th>\n      <th>AAPL</th>\n    </tr>\n    <tr>\n      <th>Date</th>\n      <th></th>\n    </tr>\n  </thead>\n  <tbody>\n    <tr>\n      <th>2010-01-04</th>\n      <td>6.535085</td>\n    </tr>\n    <tr>\n      <th>2010-01-05</th>\n      <td>6.546383</td>\n    </tr>\n    <tr>\n      <th>2010-01-06</th>\n      <td>6.442255</td>\n    </tr>\n    <tr>\n      <th>2010-01-07</th>\n      <td>6.430344</td>\n    </tr>\n    <tr>\n      <th>2010-01-08</th>\n      <td>6.473096</td>\n    </tr>\n  </tbody>\n</table>\n</div>"
     },
     "execution_count": 179,
     "metadata": {},
     "output_type": "execute_result"
    }
   ],
   "source": [
    "data.head()"
   ]
  },
  {
   "cell_type": "code",
   "execution_count": 180,
   "outputs": [
    {
     "data": {
      "text/plain": "(3150, 1)"
     },
     "execution_count": 180,
     "metadata": {},
     "output_type": "execute_result"
    }
   ],
   "source": [
    "data.shape"
   ],
   "metadata": {
    "collapsed": false,
    "pycharm": {
     "name": "#%%\n"
    }
   }
  },
  {
   "cell_type": "code",
   "execution_count": 182,
   "metadata": {
    "pycharm": {
     "name": "#%%\n"
    }
   },
   "outputs": [
    {
     "ename": "ValueError",
     "evalue": "Length of values (4) does not match length of index (1)",
     "output_type": "error",
     "traceback": [
      "\u001B[1;31m---------------------------------------------------------------------------\u001B[0m",
      "\u001B[1;31mValueError\u001B[0m                                Traceback (most recent call last)",
      "\u001B[1;32m~\\AppData\\Local\\Temp/ipykernel_8404/3480011869.py\u001B[0m in \u001B[0;36m<module>\u001B[1;34m\u001B[0m\n\u001B[0;32m      4\u001B[0m \u001B[0mweights\u001B[0m \u001B[1;33m=\u001B[0m \u001B[0mweights\u001B[0m\u001B[1;33m/\u001B[0m\u001B[0mnp\u001B[0m\u001B[1;33m.\u001B[0m\u001B[0msum\u001B[0m\u001B[1;33m(\u001B[0m\u001B[0mweights\u001B[0m\u001B[1;33m)\u001B[0m\u001B[1;33m\u001B[0m\u001B[1;33m\u001B[0m\u001B[0m\n\u001B[0;32m      5\u001B[0m \u001B[1;33m\u001B[0m\u001B[0m\n\u001B[1;32m----> 6\u001B[1;33m \u001B[0mexpected_ret\u001B[0m \u001B[1;33m=\u001B[0m \u001B[0mnp\u001B[0m\u001B[1;33m.\u001B[0m\u001B[0msum\u001B[0m\u001B[1;33m(\u001B[0m\u001B[1;33m(\u001B[0m\u001B[0mlog_return\u001B[0m\u001B[1;33m.\u001B[0m\u001B[0mmean\u001B[0m\u001B[1;33m(\u001B[0m\u001B[1;33m)\u001B[0m\u001B[1;33m*\u001B[0m\u001B[0mweights\u001B[0m\u001B[1;33m)\u001B[0m\u001B[1;33m*\u001B[0m\u001B[1;36m252\u001B[0m\u001B[1;33m)\u001B[0m\u001B[1;33m\u001B[0m\u001B[1;33m\u001B[0m\u001B[0m\n\u001B[0m\u001B[0;32m      7\u001B[0m \u001B[1;33m\u001B[0m\u001B[0m\n\u001B[0;32m      8\u001B[0m \u001B[0mexpected_vol\u001B[0m \u001B[1;33m=\u001B[0m \u001B[0mnp\u001B[0m\u001B[1;33m.\u001B[0m\u001B[0msqrt\u001B[0m\u001B[1;33m(\u001B[0m\u001B[0mnp\u001B[0m\u001B[1;33m.\u001B[0m\u001B[0mdot\u001B[0m\u001B[1;33m(\u001B[0m\u001B[0mweights\u001B[0m\u001B[1;33m.\u001B[0m\u001B[0mT\u001B[0m\u001B[1;33m,\u001B[0m \u001B[0mnp\u001B[0m\u001B[1;33m.\u001B[0m\u001B[0mdot\u001B[0m\u001B[1;33m(\u001B[0m\u001B[0mlog_return\u001B[0m\u001B[1;33m.\u001B[0m\u001B[0mcov\u001B[0m\u001B[1;33m(\u001B[0m\u001B[1;33m)\u001B[0m\u001B[1;33m*\u001B[0m\u001B[1;36m252\u001B[0m\u001B[1;33m,\u001B[0m \u001B[0mweights\u001B[0m\u001B[1;33m)\u001B[0m\u001B[1;33m)\u001B[0m\u001B[1;33m)\u001B[0m\u001B[1;33m\u001B[0m\u001B[1;33m\u001B[0m\u001B[0m\n",
      "\u001B[1;32m~\\anaconda3\\lib\\site-packages\\pandas\\core\\ops\\common.py\u001B[0m in \u001B[0;36mnew_method\u001B[1;34m(self, other)\u001B[0m\n\u001B[0;32m     67\u001B[0m         \u001B[0mother\u001B[0m \u001B[1;33m=\u001B[0m \u001B[0mitem_from_zerodim\u001B[0m\u001B[1;33m(\u001B[0m\u001B[0mother\u001B[0m\u001B[1;33m)\u001B[0m\u001B[1;33m\u001B[0m\u001B[1;33m\u001B[0m\u001B[0m\n\u001B[0;32m     68\u001B[0m \u001B[1;33m\u001B[0m\u001B[0m\n\u001B[1;32m---> 69\u001B[1;33m         \u001B[1;32mreturn\u001B[0m \u001B[0mmethod\u001B[0m\u001B[1;33m(\u001B[0m\u001B[0mself\u001B[0m\u001B[1;33m,\u001B[0m \u001B[0mother\u001B[0m\u001B[1;33m)\u001B[0m\u001B[1;33m\u001B[0m\u001B[1;33m\u001B[0m\u001B[0m\n\u001B[0m\u001B[0;32m     70\u001B[0m \u001B[1;33m\u001B[0m\u001B[0m\n\u001B[0;32m     71\u001B[0m     \u001B[1;32mreturn\u001B[0m \u001B[0mnew_method\u001B[0m\u001B[1;33m\u001B[0m\u001B[1;33m\u001B[0m\u001B[0m\n",
      "\u001B[1;32m~\\anaconda3\\lib\\site-packages\\pandas\\core\\arraylike.py\u001B[0m in \u001B[0;36m__mul__\u001B[1;34m(self, other)\u001B[0m\n\u001B[0;32m    106\u001B[0m     \u001B[1;33m@\u001B[0m\u001B[0munpack_zerodim_and_defer\u001B[0m\u001B[1;33m(\u001B[0m\u001B[1;34m\"__mul__\"\u001B[0m\u001B[1;33m)\u001B[0m\u001B[1;33m\u001B[0m\u001B[1;33m\u001B[0m\u001B[0m\n\u001B[0;32m    107\u001B[0m     \u001B[1;32mdef\u001B[0m \u001B[0m__mul__\u001B[0m\u001B[1;33m(\u001B[0m\u001B[0mself\u001B[0m\u001B[1;33m,\u001B[0m \u001B[0mother\u001B[0m\u001B[1;33m)\u001B[0m\u001B[1;33m:\u001B[0m\u001B[1;33m\u001B[0m\u001B[1;33m\u001B[0m\u001B[0m\n\u001B[1;32m--> 108\u001B[1;33m         \u001B[1;32mreturn\u001B[0m \u001B[0mself\u001B[0m\u001B[1;33m.\u001B[0m\u001B[0m_arith_method\u001B[0m\u001B[1;33m(\u001B[0m\u001B[0mother\u001B[0m\u001B[1;33m,\u001B[0m \u001B[0moperator\u001B[0m\u001B[1;33m.\u001B[0m\u001B[0mmul\u001B[0m\u001B[1;33m)\u001B[0m\u001B[1;33m\u001B[0m\u001B[1;33m\u001B[0m\u001B[0m\n\u001B[0m\u001B[0;32m    109\u001B[0m \u001B[1;33m\u001B[0m\u001B[0m\n\u001B[0;32m    110\u001B[0m     \u001B[1;33m@\u001B[0m\u001B[0munpack_zerodim_and_defer\u001B[0m\u001B[1;33m(\u001B[0m\u001B[1;34m\"__rmul__\"\u001B[0m\u001B[1;33m)\u001B[0m\u001B[1;33m\u001B[0m\u001B[1;33m\u001B[0m\u001B[0m\n",
      "\u001B[1;32m~\\anaconda3\\lib\\site-packages\\pandas\\core\\series.py\u001B[0m in \u001B[0;36m_arith_method\u001B[1;34m(self, other, op)\u001B[0m\n\u001B[0;32m   5526\u001B[0m             \u001B[0mresult\u001B[0m \u001B[1;33m=\u001B[0m \u001B[0mops\u001B[0m\u001B[1;33m.\u001B[0m\u001B[0marithmetic_op\u001B[0m\u001B[1;33m(\u001B[0m\u001B[0mlvalues\u001B[0m\u001B[1;33m,\u001B[0m \u001B[0mrvalues\u001B[0m\u001B[1;33m,\u001B[0m \u001B[0mop\u001B[0m\u001B[1;33m)\u001B[0m\u001B[1;33m\u001B[0m\u001B[1;33m\u001B[0m\u001B[0m\n\u001B[0;32m   5527\u001B[0m \u001B[1;33m\u001B[0m\u001B[0m\n\u001B[1;32m-> 5528\u001B[1;33m         \u001B[1;32mreturn\u001B[0m \u001B[0mself\u001B[0m\u001B[1;33m.\u001B[0m\u001B[0m_construct_result\u001B[0m\u001B[1;33m(\u001B[0m\u001B[0mresult\u001B[0m\u001B[1;33m,\u001B[0m \u001B[0mname\u001B[0m\u001B[1;33m=\u001B[0m\u001B[0mres_name\u001B[0m\u001B[1;33m)\u001B[0m\u001B[1;33m\u001B[0m\u001B[1;33m\u001B[0m\u001B[0m\n\u001B[0m\u001B[0;32m   5529\u001B[0m \u001B[1;33m\u001B[0m\u001B[0m\n\u001B[0;32m   5530\u001B[0m \u001B[1;33m\u001B[0m\u001B[0m\n",
      "\u001B[1;32m~\\anaconda3\\lib\\site-packages\\pandas\\core\\series.py\u001B[0m in \u001B[0;36m_construct_result\u001B[1;34m(self, result, name)\u001B[0m\n\u001B[0;32m   2943\u001B[0m         \u001B[1;31m# We do not pass dtype to ensure that the Series constructor\u001B[0m\u001B[1;33m\u001B[0m\u001B[1;33m\u001B[0m\u001B[0m\n\u001B[0;32m   2944\u001B[0m         \u001B[1;31m#  does inference in the case where `result` has object-dtype.\u001B[0m\u001B[1;33m\u001B[0m\u001B[1;33m\u001B[0m\u001B[0m\n\u001B[1;32m-> 2945\u001B[1;33m         \u001B[0mout\u001B[0m \u001B[1;33m=\u001B[0m \u001B[0mself\u001B[0m\u001B[1;33m.\u001B[0m\u001B[0m_constructor\u001B[0m\u001B[1;33m(\u001B[0m\u001B[0mresult\u001B[0m\u001B[1;33m,\u001B[0m \u001B[0mindex\u001B[0m\u001B[1;33m=\u001B[0m\u001B[0mself\u001B[0m\u001B[1;33m.\u001B[0m\u001B[0mindex\u001B[0m\u001B[1;33m)\u001B[0m\u001B[1;33m\u001B[0m\u001B[1;33m\u001B[0m\u001B[0m\n\u001B[0m\u001B[0;32m   2946\u001B[0m         \u001B[0mout\u001B[0m \u001B[1;33m=\u001B[0m \u001B[0mout\u001B[0m\u001B[1;33m.\u001B[0m\u001B[0m__finalize__\u001B[0m\u001B[1;33m(\u001B[0m\u001B[0mself\u001B[0m\u001B[1;33m)\u001B[0m\u001B[1;33m\u001B[0m\u001B[1;33m\u001B[0m\u001B[0m\n\u001B[0;32m   2947\u001B[0m \u001B[1;33m\u001B[0m\u001B[0m\n",
      "\u001B[1;32m~\\anaconda3\\lib\\site-packages\\pandas\\core\\series.py\u001B[0m in \u001B[0;36m__init__\u001B[1;34m(self, data, index, dtype, name, copy, fastpath)\u001B[0m\n\u001B[0;32m    428\u001B[0m                 \u001B[0mindex\u001B[0m \u001B[1;33m=\u001B[0m \u001B[0mibase\u001B[0m\u001B[1;33m.\u001B[0m\u001B[0mdefault_index\u001B[0m\u001B[1;33m(\u001B[0m\u001B[0mlen\u001B[0m\u001B[1;33m(\u001B[0m\u001B[0mdata\u001B[0m\u001B[1;33m)\u001B[0m\u001B[1;33m)\u001B[0m\u001B[1;33m\u001B[0m\u001B[1;33m\u001B[0m\u001B[0m\n\u001B[0;32m    429\u001B[0m             \u001B[1;32melif\u001B[0m \u001B[0mis_list_like\u001B[0m\u001B[1;33m(\u001B[0m\u001B[0mdata\u001B[0m\u001B[1;33m)\u001B[0m\u001B[1;33m:\u001B[0m\u001B[1;33m\u001B[0m\u001B[1;33m\u001B[0m\u001B[0m\n\u001B[1;32m--> 430\u001B[1;33m                 \u001B[0mcom\u001B[0m\u001B[1;33m.\u001B[0m\u001B[0mrequire_length_match\u001B[0m\u001B[1;33m(\u001B[0m\u001B[0mdata\u001B[0m\u001B[1;33m,\u001B[0m \u001B[0mindex\u001B[0m\u001B[1;33m)\u001B[0m\u001B[1;33m\u001B[0m\u001B[1;33m\u001B[0m\u001B[0m\n\u001B[0m\u001B[0;32m    431\u001B[0m \u001B[1;33m\u001B[0m\u001B[0m\n\u001B[0;32m    432\u001B[0m             \u001B[1;31m# create/copy the manager\u001B[0m\u001B[1;33m\u001B[0m\u001B[1;33m\u001B[0m\u001B[0m\n",
      "\u001B[1;32m~\\anaconda3\\lib\\site-packages\\pandas\\core\\common.py\u001B[0m in \u001B[0;36mrequire_length_match\u001B[1;34m(data, index)\u001B[0m\n\u001B[0;32m    529\u001B[0m     \"\"\"\n\u001B[0;32m    530\u001B[0m     \u001B[1;32mif\u001B[0m \u001B[0mlen\u001B[0m\u001B[1;33m(\u001B[0m\u001B[0mdata\u001B[0m\u001B[1;33m)\u001B[0m \u001B[1;33m!=\u001B[0m \u001B[0mlen\u001B[0m\u001B[1;33m(\u001B[0m\u001B[0mindex\u001B[0m\u001B[1;33m)\u001B[0m\u001B[1;33m:\u001B[0m\u001B[1;33m\u001B[0m\u001B[1;33m\u001B[0m\u001B[0m\n\u001B[1;32m--> 531\u001B[1;33m         raise ValueError(\n\u001B[0m\u001B[0;32m    532\u001B[0m             \u001B[1;34m\"Length of values \"\u001B[0m\u001B[1;33m\u001B[0m\u001B[1;33m\u001B[0m\u001B[0m\n\u001B[0;32m    533\u001B[0m             \u001B[1;34mf\"({len(data)}) \"\u001B[0m\u001B[1;33m\u001B[0m\u001B[1;33m\u001B[0m\u001B[0m\n",
      "\u001B[1;31mValueError\u001B[0m: Length of values (4) does not match length of index (1)"
     ]
    }
   ],
   "source": [
    "log_return = log_returns(data)\n",
    "\n",
    "weights = np.array(np.random.random(4))\n",
    "weights = weights/np.sum(weights)\n",
    "\n",
    "expected_ret = np.sum((log_return.mean()*weights)*252)\n",
    "\n",
    "expected_vol = np.sqrt(np.dot(weights.T, np.dot(log_return.cov()*252, weights)))\n",
    "\n",
    "sharpe = (expected_ret-0.025)/expected_vol\n",
    "\n",
    "print(f\"Weights: {weights}\")\n",
    "print(f\"Expected Return of Portfolio: {expected_ret}\")\n",
    "print(f\"Expected Volatility: {expected_vol}\")\n",
    "print(f\"Sharpe Ratio: {sharpe}\")"
   ]
  },
  {
   "cell_type": "code",
   "execution_count": 183,
   "metadata": {
    "pycharm": {
     "name": "#%%\n"
    }
   },
   "outputs": [],
   "source": [
    "def market_data_combination(data, mark_ticker = \"^GSPC\", start='2010-1-1'):\n",
    "    market_data = import_stock_data(mark_ticker, start)\n",
    "    market_rets = log_returns(market_data).dropna()\n",
    "    ann_return = np.exp(market_rets.mean()*252).values-1\n",
    "    data = data.merge(market_data, left_index=True, right_index=True)\n",
    "    return data, ann_return"
   ]
  },
  {
   "cell_type": "code",
   "execution_count": 184,
   "metadata": {
    "pycharm": {
     "name": "#%%\n"
    }
   },
   "outputs": [
    {
     "data": {
      "text/plain": "                  MSFT        AMZN\nDate                              \n2010-01-04   23.800224    6.695000\n2010-01-05   23.807913    6.734500\n2010-01-06   23.661806    6.612500\n2010-01-07   23.415726    6.500000\n2010-01-08   23.577219    6.676000\n...                ...         ...\n2022-07-01  259.579987  109.559998\n2022-07-05  262.850006  113.500000\n2022-07-06  266.209991  114.330002\n2022-07-07  268.399994  116.330002\n2022-07-08  264.239990  115.060097\n\n[3150 rows x 2 columns]",
      "text/html": "<div>\n<style scoped>\n    .dataframe tbody tr th:only-of-type {\n        vertical-align: middle;\n    }\n\n    .dataframe tbody tr th {\n        vertical-align: top;\n    }\n\n    .dataframe thead th {\n        text-align: right;\n    }\n</style>\n<table border=\"1\" class=\"dataframe\">\n  <thead>\n    <tr style=\"text-align: right;\">\n      <th></th>\n      <th>MSFT</th>\n      <th>AMZN</th>\n    </tr>\n    <tr>\n      <th>Date</th>\n      <th></th>\n      <th></th>\n    </tr>\n  </thead>\n  <tbody>\n    <tr>\n      <th>2010-01-04</th>\n      <td>23.800224</td>\n      <td>6.695000</td>\n    </tr>\n    <tr>\n      <th>2010-01-05</th>\n      <td>23.807913</td>\n      <td>6.734500</td>\n    </tr>\n    <tr>\n      <th>2010-01-06</th>\n      <td>23.661806</td>\n      <td>6.612500</td>\n    </tr>\n    <tr>\n      <th>2010-01-07</th>\n      <td>23.415726</td>\n      <td>6.500000</td>\n    </tr>\n    <tr>\n      <th>2010-01-08</th>\n      <td>23.577219</td>\n      <td>6.676000</td>\n    </tr>\n    <tr>\n      <th>...</th>\n      <td>...</td>\n      <td>...</td>\n    </tr>\n    <tr>\n      <th>2022-07-01</th>\n      <td>259.579987</td>\n      <td>109.559998</td>\n    </tr>\n    <tr>\n      <th>2022-07-05</th>\n      <td>262.850006</td>\n      <td>113.500000</td>\n    </tr>\n    <tr>\n      <th>2022-07-06</th>\n      <td>266.209991</td>\n      <td>114.330002</td>\n    </tr>\n    <tr>\n      <th>2022-07-07</th>\n      <td>268.399994</td>\n      <td>116.330002</td>\n    </tr>\n    <tr>\n      <th>2022-07-08</th>\n      <td>264.239990</td>\n      <td>115.060097</td>\n    </tr>\n  </tbody>\n</table>\n<p>3150 rows × 2 columns</p>\n</div>"
     },
     "execution_count": 184,
     "metadata": {},
     "output_type": "execute_result"
    }
   ],
   "source": [
    "import_stock_data(['MSFT','AMZN'])"
   ]
  },
  {
   "cell_type": "code",
   "execution_count": 185,
   "metadata": {
    "pycharm": {
     "name": "#%%\n"
    }
   },
   "outputs": [],
   "source": [
    "def montecarlo_sharpe_optimal_portfolio(tickers, trials, riskfree=0.025, plot_eff = True, start_date = '2010-1-1', end_date=None):\n",
    "    if end_date == None:\n",
    "        end_date = datetime.today().strftime('%Y-%m-%d')\n",
    "    \n",
    "    data = import_stock_data(tickers)\n",
    "    allWeights = np.zeros((trials, len(data.columns)))\n",
    "    allReturns = np.zeros(trials)\n",
    "    allVolatility = np.zeros(trials)\n",
    "    allSharpeValues = np.zeros(trials)\n",
    "    \n",
    "    log_return = log_returns(data)\n",
    "    \n",
    "    for t in range(trials):\n",
    "        weights = np.random.rand(len(data.columns))\n",
    "        weights = weights/np.sum(weights) \n",
    "        allWeights[t,:]=weights\n",
    "        \n",
    "        allReturns[t] = np.sum((log_return.mean()*weights)*252)\n",
    "        \n",
    "        allVolatility[t] = np.sqrt(np.dot(weights.T, np.dot(log_return.cov()*252, weights)))\n",
    "        \n",
    "        allSharpeValues[t] = (allReturns[t]-riskfree)/allVolatility[t]\n",
    "    \n",
    "    maxsharpe = allSharpeValues.max()\n",
    "    pointsharpe = allSharpeValues.argmax()\n",
    "    weightSharpe = allWeights[pointsharpe]\n",
    "    x_sharpe = allVolatility[pointsharpe]\n",
    "    y_sharpe = allReturns[pointsharpe]\n",
    "    \n",
    "    maxret = allReturns.max()\n",
    "    pointret = allReturns.argmax()\n",
    "    weightRet = allWeights[pointret]\n",
    "    x_ret = allVolatility[pointret]\n",
    "    y_ret = allReturns[pointret]\n",
    "    \n",
    " \n",
    "    if plot_eff == True:\n",
    "        plt.figure(figsize=(14,9))\n",
    "        plt.scatter(allVolatility, allReturns, c=allSharpeValues, cmap='plasma')\n",
    "        plt.colorbar(label='Sharpe Ratio')\n",
    "        plt.xlabel('Volatility')\n",
    "        plt.ylabel('Expected Return')\n",
    "        \n",
    "        plt.scatter(x_sharpe,y_sharpe,c='black')\n",
    "        plt.scatter(x_ret, y_ret, c='black')\n",
    "       \n",
    "    optim_dic = []\n",
    "    for i in range(len(tickers)):\n",
    "        optim_dic.append({'ticker':tickers[i],'Weight':weightSharpe[i]})\n",
    "    print(pd.DataFrame(optim_dic))"
   ]
  },
  {
   "cell_type": "code",
   "execution_count": 186,
   "metadata": {
    "pycharm": {
     "name": "#%%\n"
    }
   },
   "outputs": [
    {
     "name": "stdout",
     "output_type": "stream",
     "text": [
      "  ticker    Weight\n",
      "0   MSFT  0.335009\n",
      "1    UNH  0.664991\n"
     ]
    },
    {
     "data": {
      "text/plain": "<Figure size 1008x648 with 2 Axes>",
      "image/png": "[encoded data removed]"
     },
     "metadata": {
      "needs_background": "light"
     },
     "output_type": "display_data"
    }
   ],
   "source": [
    "montecarlo_sharpe_optimal_portfolio(['MSFT','UNH'],1000)"
   ]
  },
  {
   "cell_type": "code",
   "execution_count": 187,
   "metadata": {
    "pycharm": {
     "name": "#%%\n"
    }
   },
   "outputs": [
    {
     "ename": "ValueError",
     "evalue": "Columns must be same length as key",
     "output_type": "error",
     "traceback": [
      "\u001B[1;31m---------------------------------------------------------------------------\u001B[0m",
      "\u001B[1;31mValueError\u001B[0m                                Traceback (most recent call last)",
      "\u001B[1;32m~\\AppData\\Local\\Temp/ipykernel_8404/3291060146.py\u001B[0m in \u001B[0;36m<module>\u001B[1;34m\u001B[0m\n\u001B[1;32m----> 1\u001B[1;33m \u001B[0mimport_stock_data\u001B[0m\u001B[1;33m(\u001B[0m\u001B[1;33m[\u001B[0m\u001B[1;34m'MSFT'\u001B[0m\u001B[1;33m,\u001B[0m\u001B[1;34m'AMZN'\u001B[0m\u001B[1;33m,\u001B[0m\u001B[1;34m'AMZN'\u001B[0m\u001B[1;33m]\u001B[0m\u001B[1;33m)\u001B[0m\u001B[1;33m\u001B[0m\u001B[1;33m\u001B[0m\u001B[0m\n\u001B[0m",
      "\u001B[1;32m~\\AppData\\Local\\Temp/ipykernel_8404/1472157540.py\u001B[0m in \u001B[0;36mimport_stock_data\u001B[1;34m(tickers, start, end)\u001B[0m\n\u001B[0;32m      2\u001B[0m     \u001B[0mdata\u001B[0m \u001B[1;33m=\u001B[0m \u001B[0mpd\u001B[0m\u001B[1;33m.\u001B[0m\u001B[0mDataFrame\u001B[0m\u001B[1;33m(\u001B[0m\u001B[1;33m)\u001B[0m\u001B[1;33m\u001B[0m\u001B[1;33m\u001B[0m\u001B[0m\n\u001B[0;32m      3\u001B[0m     \u001B[1;32mif\u001B[0m \u001B[0mlen\u001B[0m\u001B[1;33m(\u001B[0m\u001B[1;33m[\u001B[0m\u001B[0mtickers\u001B[0m\u001B[1;33m]\u001B[0m\u001B[1;33m)\u001B[0m \u001B[1;33m==\u001B[0m\u001B[1;36m1\u001B[0m\u001B[1;33m:\u001B[0m\u001B[1;33m\u001B[0m\u001B[1;33m\u001B[0m\u001B[0m\n\u001B[1;32m----> 4\u001B[1;33m         \u001B[0mdata\u001B[0m\u001B[1;33m[\u001B[0m\u001B[0mtickers\u001B[0m\u001B[1;33m]\u001B[0m \u001B[1;33m=\u001B[0m \u001B[0mwb\u001B[0m\u001B[1;33m.\u001B[0m\u001B[0mDataReader\u001B[0m\u001B[1;33m(\u001B[0m\u001B[0mtickers\u001B[0m\u001B[1;33m,\u001B[0m \u001B[0mdata_source\u001B[0m\u001B[1;33m=\u001B[0m\u001B[1;34m'yahoo'\u001B[0m\u001B[1;33m,\u001B[0m \u001B[0mstart\u001B[0m \u001B[1;33m=\u001B[0m \u001B[0mstart\u001B[0m\u001B[1;33m)\u001B[0m\u001B[1;33m[\u001B[0m\u001B[1;34m'Adj Close'\u001B[0m\u001B[1;33m]\u001B[0m\u001B[1;33m\u001B[0m\u001B[1;33m\u001B[0m\u001B[0m\n\u001B[0m\u001B[0;32m      5\u001B[0m         \u001B[0mdata\u001B[0m \u001B[1;33m=\u001B[0m \u001B[0mpd\u001B[0m\u001B[1;33m.\u001B[0m\u001B[0mDataFrame\u001B[0m\u001B[1;33m(\u001B[0m\u001B[0mdata\u001B[0m\u001B[1;33m)\u001B[0m\u001B[1;33m\u001B[0m\u001B[1;33m\u001B[0m\u001B[0m\n\u001B[0;32m      6\u001B[0m     \u001B[1;32melse\u001B[0m\u001B[1;33m:\u001B[0m\u001B[1;33m\u001B[0m\u001B[1;33m\u001B[0m\u001B[0m\n",
      "\u001B[1;32m~\\anaconda3\\lib\\site-packages\\pandas\\core\\frame.py\u001B[0m in \u001B[0;36m__setitem__\u001B[1;34m(self, key, value)\u001B[0m\n\u001B[0;32m   3598\u001B[0m             \u001B[0mself\u001B[0m\u001B[1;33m.\u001B[0m\u001B[0m_setitem_frame\u001B[0m\u001B[1;33m(\u001B[0m\u001B[0mkey\u001B[0m\u001B[1;33m,\u001B[0m \u001B[0mvalue\u001B[0m\u001B[1;33m)\u001B[0m\u001B[1;33m\u001B[0m\u001B[1;33m\u001B[0m\u001B[0m\n\u001B[0;32m   3599\u001B[0m         \u001B[1;32melif\u001B[0m \u001B[0misinstance\u001B[0m\u001B[1;33m(\u001B[0m\u001B[0mkey\u001B[0m\u001B[1;33m,\u001B[0m \u001B[1;33m(\u001B[0m\u001B[0mSeries\u001B[0m\u001B[1;33m,\u001B[0m \u001B[0mnp\u001B[0m\u001B[1;33m.\u001B[0m\u001B[0mndarray\u001B[0m\u001B[1;33m,\u001B[0m \u001B[0mlist\u001B[0m\u001B[1;33m,\u001B[0m \u001B[0mIndex\u001B[0m\u001B[1;33m)\u001B[0m\u001B[1;33m)\u001B[0m\u001B[1;33m:\u001B[0m\u001B[1;33m\u001B[0m\u001B[1;33m\u001B[0m\u001B[0m\n\u001B[1;32m-> 3600\u001B[1;33m             \u001B[0mself\u001B[0m\u001B[1;33m.\u001B[0m\u001B[0m_setitem_array\u001B[0m\u001B[1;33m(\u001B[0m\u001B[0mkey\u001B[0m\u001B[1;33m,\u001B[0m \u001B[0mvalue\u001B[0m\u001B[1;33m)\u001B[0m\u001B[1;33m\u001B[0m\u001B[1;33m\u001B[0m\u001B[0m\n\u001B[0m\u001B[0;32m   3601\u001B[0m         \u001B[1;32melif\u001B[0m \u001B[0misinstance\u001B[0m\u001B[1;33m(\u001B[0m\u001B[0mvalue\u001B[0m\u001B[1;33m,\u001B[0m \u001B[0mDataFrame\u001B[0m\u001B[1;33m)\u001B[0m\u001B[1;33m:\u001B[0m\u001B[1;33m\u001B[0m\u001B[1;33m\u001B[0m\u001B[0m\n\u001B[0;32m   3602\u001B[0m             \u001B[0mself\u001B[0m\u001B[1;33m.\u001B[0m\u001B[0m_set_item_frame_value\u001B[0m\u001B[1;33m(\u001B[0m\u001B[0mkey\u001B[0m\u001B[1;33m,\u001B[0m \u001B[0mvalue\u001B[0m\u001B[1;33m)\u001B[0m\u001B[1;33m\u001B[0m\u001B[1;33m\u001B[0m\u001B[0m\n",
      "\u001B[1;32m~\\anaconda3\\lib\\site-packages\\pandas\\core\\frame.py\u001B[0m in \u001B[0;36m_setitem_array\u001B[1;34m(self, key, value)\u001B[0m\n\u001B[0;32m   3637\u001B[0m         \u001B[1;32melse\u001B[0m\u001B[1;33m:\u001B[0m\u001B[1;33m\u001B[0m\u001B[1;33m\u001B[0m\u001B[0m\n\u001B[0;32m   3638\u001B[0m             \u001B[1;32mif\u001B[0m \u001B[0misinstance\u001B[0m\u001B[1;33m(\u001B[0m\u001B[0mvalue\u001B[0m\u001B[1;33m,\u001B[0m \u001B[0mDataFrame\u001B[0m\u001B[1;33m)\u001B[0m\u001B[1;33m:\u001B[0m\u001B[1;33m\u001B[0m\u001B[1;33m\u001B[0m\u001B[0m\n\u001B[1;32m-> 3639\u001B[1;33m                 \u001B[0mcheck_key_length\u001B[0m\u001B[1;33m(\u001B[0m\u001B[0mself\u001B[0m\u001B[1;33m.\u001B[0m\u001B[0mcolumns\u001B[0m\u001B[1;33m,\u001B[0m \u001B[0mkey\u001B[0m\u001B[1;33m,\u001B[0m \u001B[0mvalue\u001B[0m\u001B[1;33m)\u001B[0m\u001B[1;33m\u001B[0m\u001B[1;33m\u001B[0m\u001B[0m\n\u001B[0m\u001B[0;32m   3640\u001B[0m                 \u001B[1;32mfor\u001B[0m \u001B[0mk1\u001B[0m\u001B[1;33m,\u001B[0m \u001B[0mk2\u001B[0m \u001B[1;32min\u001B[0m \u001B[0mzip\u001B[0m\u001B[1;33m(\u001B[0m\u001B[0mkey\u001B[0m\u001B[1;33m,\u001B[0m \u001B[0mvalue\u001B[0m\u001B[1;33m.\u001B[0m\u001B[0mcolumns\u001B[0m\u001B[1;33m)\u001B[0m\u001B[1;33m:\u001B[0m\u001B[1;33m\u001B[0m\u001B[1;33m\u001B[0m\u001B[0m\n\u001B[0;32m   3641\u001B[0m                     \u001B[0mself\u001B[0m\u001B[1;33m[\u001B[0m\u001B[0mk1\u001B[0m\u001B[1;33m]\u001B[0m \u001B[1;33m=\u001B[0m \u001B[0mvalue\u001B[0m\u001B[1;33m[\u001B[0m\u001B[0mk2\u001B[0m\u001B[1;33m]\u001B[0m\u001B[1;33m\u001B[0m\u001B[1;33m\u001B[0m\u001B[0m\n",
      "\u001B[1;32m~\\anaconda3\\lib\\site-packages\\pandas\\core\\indexers.py\u001B[0m in \u001B[0;36mcheck_key_length\u001B[1;34m(columns, key, value)\u001B[0m\n\u001B[0;32m    426\u001B[0m     \u001B[1;32mif\u001B[0m \u001B[0mcolumns\u001B[0m\u001B[1;33m.\u001B[0m\u001B[0mis_unique\u001B[0m\u001B[1;33m:\u001B[0m\u001B[1;33m\u001B[0m\u001B[1;33m\u001B[0m\u001B[0m\n\u001B[0;32m    427\u001B[0m         \u001B[1;32mif\u001B[0m \u001B[0mlen\u001B[0m\u001B[1;33m(\u001B[0m\u001B[0mvalue\u001B[0m\u001B[1;33m.\u001B[0m\u001B[0mcolumns\u001B[0m\u001B[1;33m)\u001B[0m \u001B[1;33m!=\u001B[0m \u001B[0mlen\u001B[0m\u001B[1;33m(\u001B[0m\u001B[0mkey\u001B[0m\u001B[1;33m)\u001B[0m\u001B[1;33m:\u001B[0m\u001B[1;33m\u001B[0m\u001B[1;33m\u001B[0m\u001B[0m\n\u001B[1;32m--> 428\u001B[1;33m             \u001B[1;32mraise\u001B[0m \u001B[0mValueError\u001B[0m\u001B[1;33m(\u001B[0m\u001B[1;34m\"Columns must be same length as key\"\u001B[0m\u001B[1;33m)\u001B[0m\u001B[1;33m\u001B[0m\u001B[1;33m\u001B[0m\u001B[0m\n\u001B[0m\u001B[0;32m    429\u001B[0m     \u001B[1;32melse\u001B[0m\u001B[1;33m:\u001B[0m\u001B[1;33m\u001B[0m\u001B[1;33m\u001B[0m\u001B[0m\n\u001B[0;32m    430\u001B[0m         \u001B[1;31m# Missing keys in columns are represented as -1\u001B[0m\u001B[1;33m\u001B[0m\u001B[1;33m\u001B[0m\u001B[0m\n",
      "\u001B[1;31mValueError\u001B[0m: Columns must be same length as key"
     ]
    }
   ],
   "source": [
    "import_stock_data(['MSFT','AMZN','AMZN'])"
   ]
  },
  {
   "cell_type": "code",
   "execution_count": null,
   "metadata": {
    "pycharm": {
     "name": "#%%\n"
    }
   },
   "outputs": [],
   "source": []
  },
  {
   "cell_type": "code",
   "execution_count": null,
   "metadata": {
    "pycharm": {
     "name": "#%%\n"
    }
   },
   "outputs": [],
   "source": []
  },
  {
   "cell_type": "code",
   "execution_count": null,
   "metadata": {
    "pycharm": {
     "name": "#%%\n"
    }
   },
   "outputs": [],
   "source": []
  }
 ],
 "metadata": {
  "kernelspec": {
   "display_name": "Python 3",
   "language": "python",
   "name": "python3"
  },
  "language_info": {
   "codemirror_mode": {
    "name": "ipython",
    "version": 3
   },
   "file_extension": ".py",
   "mimetype": "text/x-python",
   "name": "python",
   "nbconvert_exporter": "python",
   "pygments_lexer": "ipython3",
   "version": "3.7.4"
  }
 },
 "nbformat": 4,
 "nbformat_minor": 2
}