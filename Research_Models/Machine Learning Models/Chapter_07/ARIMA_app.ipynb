{
 "cells": [
  {
   "cell_type": "code",
   "execution_count": null,
   "id": "02f6bb6a",
   "metadata": {
    "pycharm": {
     "name": "#%%\n"
    }
   },
   "outputs": [
    {
     "ename": "RuntimeError",
     "evalue": "module compiled against API version 0xf but this version of numpy is 0xd",
     "output_type": "error",
     "traceback": [
      "\u001B[1;31m---------------------------------------------------------------------------\u001B[0m",
      "\u001B[1;31mRuntimeError\u001B[0m                              Traceback (most recent call last)",
      "\u001B[1;31mRuntimeError\u001B[0m: module compiled against API version 0xf but this version of numpy is 0xd"
     ]
    },
    {
     "ename": "ImportError",
     "evalue": "numpy.core.multiarray failed to import",
     "output_type": "error",
     "traceback": [
      "\u001B[1;31m---------------------------------------------------------------------------\u001B[0m",
      "\u001B[1;31mImportError\u001B[0m                               Traceback (most recent call last)",
      "Input \u001B[1;32mIn [1]\u001B[0m, in \u001B[0;36m<cell line: 3>\u001B[1;34m()\u001B[0m\n\u001B[0;32m      1\u001B[0m \u001B[38;5;28;01mimport\u001B[39;00m \u001B[38;5;21;01mwarnings\u001B[39;00m\n\u001B[0;32m      2\u001B[0m warnings\u001B[38;5;241m.\u001B[39mfilterwarnings(\u001B[38;5;124m\"\u001B[39m\u001B[38;5;124mignore\u001B[39m\u001B[38;5;124m\"\u001B[39m)\n\u001B[1;32m----> 3\u001B[0m \u001B[38;5;28;01mfrom\u001B[39;00m \u001B[38;5;21;01mMT5\u001B[39;00m \u001B[38;5;28;01mimport\u001B[39;00m \u001B[38;5;241m*\u001B[39m\n\u001B[0;32m      4\u001B[0m \u001B[38;5;28;01mimport\u001B[39;00m \u001B[38;5;21;01mnumpy\u001B[39;00m \u001B[38;5;28;01mas\u001B[39;00m \u001B[38;5;21;01mnp\u001B[39;00m\n\u001B[0;32m      5\u001B[0m \u001B[38;5;28;01mimport\u001B[39;00m \u001B[38;5;21;01mnumpy\u001B[39;00m \u001B[38;5;28;01mas\u001B[39;00m \u001B[38;5;21;01mnp\u001B[39;00m\n",
      "File \u001B[1;32m~\\PycharmProjects\\AlphaQuant-Labs\\Research_Models\\Machine Learning Models\\Chapter_07\\MT5.py:4\u001B[0m, in \u001B[0;36m<module>\u001B[1;34m\u001B[0m\n\u001B[0;32m      2\u001B[0m \u001B[38;5;28;01mfrom\u001B[39;00m \u001B[38;5;21;01mdatetime\u001B[39;00m \u001B[38;5;28;01mimport\u001B[39;00m datetime\n\u001B[0;32m      3\u001B[0m \u001B[38;5;28;01mimport\u001B[39;00m \u001B[38;5;21;01mpandas\u001B[39;00m \u001B[38;5;28;01mas\u001B[39;00m \u001B[38;5;21;01mpd\u001B[39;00m\n\u001B[1;32m----> 4\u001B[0m \u001B[38;5;28;01mimport\u001B[39;00m \u001B[38;5;21;01mMetaTrader5\u001B[39;00m \u001B[38;5;28;01mas\u001B[39;00m \u001B[38;5;21;01mmt5\u001B[39;00m\n\u001B[0;32m      5\u001B[0m warnings\u001B[38;5;241m.\u001B[39mfilterwarnings(\u001B[38;5;124m\"\u001B[39m\u001B[38;5;124mignore\u001B[39m\u001B[38;5;124m\"\u001B[39m)\n\u001B[0;32m      6\u001B[0m mt5\u001B[38;5;241m.\u001B[39minitialize()\n",
      "File \u001B[1;32m~\\AppData\\Roaming\\Python\\Python39\\site-packages\\MetaTrader5\\__init__.py:257\u001B[0m, in \u001B[0;36m<module>\u001B[1;34m\u001B[0m\n\u001B[0;32m    254\u001B[0m RES_E_INTERNAL_FAIL_TIMEOUT         \u001B[38;5;241m=\u001B[39m\u001B[38;5;241m-\u001B[39m\u001B[38;5;241m10005\u001B[39m      \u001B[38;5;66;03m# internal timeout\u001B[39;00m\n\u001B[0;32m    256\u001B[0m \u001B[38;5;66;03m# import C methods to our module\u001B[39;00m\n\u001B[1;32m--> 257\u001B[0m \u001B[38;5;28;01mfrom\u001B[39;00m \u001B[38;5;21;01m.\u001B[39;00m\u001B[38;5;21;01m_core\u001B[39;00m \u001B[38;5;28;01mimport\u001B[39;00m \u001B[38;5;241m*\u001B[39m\n\u001B[0;32m    259\u001B[0m \u001B[38;5;66;03m# internal order send\u001B[39;00m\n\u001B[0;32m    260\u001B[0m \u001B[38;5;28;01mdef\u001B[39;00m \u001B[38;5;21m_RawOrder\u001B[39m(order_type, symbol, volume, price, comment\u001B[38;5;241m=\u001B[39m\u001B[38;5;28;01mNone\u001B[39;00m, ticket\u001B[38;5;241m=\u001B[39m\u001B[38;5;28;01mNone\u001B[39;00m):\n",
      "\u001B[1;31mImportError\u001B[0m: numpy.core.multiarray failed to import"
     ]
    }
   ],
   "source": [
    "import warnings\n",
    "warnings.filterwarnings(\"ignore\")\n",
    "from MT5 import *\n",
    "import numpy as np\n",
    "import numpy as np\n",
    "import pandas as pd\n",
    "import warnings\n",
    "warnings.filterwarnings(\"ignore\")\n",
    "from statsmodels.tsa.arima_model import ARIMA\n",
    "import time\n",
    "\n",
    "def sig_ARIMA_model(symbol):\n",
    "    \"\"\" Function for predict the value of tommorow using ARIMA model\"\"\"\n",
    "\n",
    "    train_set = MT5.get_data(symbol, 3500)[\"close\"]\n",
    "    \n",
    "    # Define model\n",
    "    p = 1\n",
    "    q = 1\n",
    "    d = 1\n",
    "    model = ARIMA(train_set, order=(p, d, q))\n",
    "\n",
    "    # Fit the model\n",
    "    model_fit = model.fit(disp=0)\n",
    "\n",
    "    # Make forecast\n",
    "    forecast = model_fit.forecast()\n",
    "\n",
    "    value_forecasted = forecast[0][0]\n",
    "    buy = train_set.iloc[-1] < value_forecasted\n",
    "    sell = not buy\n",
    "    return buy, sell\n",
    "\n",
    "\n",
    "\n",
    "# True = Live Trading and False = Screener\n",
    "live = True\n",
    "\n",
    "if live:\n",
    "    current_account_info = mt5.account_info()\n",
    "    print(\"------------------------------------------------------------------\")\n",
    "    print(\"Date: \", datetime.now().strftime(\"%Y-%m-%d %H:%M:%S\"))\n",
    "    print(f\"Balance: {current_account_info.balance} USD, \\t\"\n",
    "          f\"Equity: {current_account_info.equity} USD, \\t\"\n",
    "          f\"Profit: {current_account_info.profit} USD\")\n",
    "    print(\"------------------------------------------------------------------\")\n",
    "\n",
    "\n",
    "\n",
    "\n",
    "info_order = {\n",
    "    \"Euro vs USdollar\": [\"EURUSD\", 0.01]\n",
    "}\n",
    "\n",
    "\n",
    "start = datetime.now().strftime(\"%H:%M:%S\")\n",
    "while True:\n",
    "    # Verfication for launch\n",
    "    if datetime.now().weekday() not in (5,6):\n",
    "        is_time = datetime.now().strftime(\"%H:%M:%S\") == start #\"23:59:59\"\n",
    "    else:\n",
    "        is_time = False\n",
    "\n",
    "    \n",
    "    # Launch the algorithm\n",
    "    if is_time:\n",
    "\n",
    "        # Open the trades\n",
    "        for asset in info_order.keys():\n",
    "\n",
    "            # Initialize the inputs\n",
    "            symbol = info_order[asset][0]\n",
    "            lot = info_order[asset][1]\n",
    "\n",
    "            # Create the signals\n",
    "            buy, sell = sig_ARIMA_model(symbol)\n",
    "\n",
    "             # Run the algorithm\n",
    "            if live:\n",
    "                MT5.run(symbol, buy, sell,lot)\n",
    "\n",
    "            else:\n",
    "                print(f\"Symbol: {symbol}\\t\"\n",
    "                     f\"Buy: {buy}\\t\"\n",
    "                     f\"Sell: {sell}\")\n",
    "    time.sleep(1)"
   ]
  },
  {
   "cell_type": "code",
   "execution_count": null,
   "id": "36b4b91f",
   "metadata": {
    "pycharm": {
     "name": "#%%\n"
    }
   },
   "outputs": [],
   "source": []
  }
 ],
 "metadata": {
  "kernelspec": {
   "display_name": "Python 3",
   "language": "python",
   "name": "python3"
  },
  "language_info": {
   "codemirror_mode": {
    "name": "ipython",
    "version": 3
   },
   "file_extension": ".py",
   "mimetype": "text/x-python",
   "name": "python",
   "nbconvert_exporter": "python",
   "pygments_lexer": "ipython3",
   "version": "3.8.8"
  }
 },
 "nbformat": 4,
 "nbformat_minor": 5
}